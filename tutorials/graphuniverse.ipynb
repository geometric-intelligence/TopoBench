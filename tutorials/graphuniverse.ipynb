{
 "cells": [
  {
   "cell_type": "markdown",
   "id": "519a9fbd",
   "metadata": {},
   "source": [
    "# GraphUniverse"
   ]
  },
  {
   "cell_type": "code",
   "execution_count": 1,
   "id": "39632393",
   "metadata": {},
   "outputs": [
    {
     "name": "stderr",
     "output_type": "stream",
     "text": [
      "/home/gbg141/.conda/envs/tb/lib/python3.11/site-packages/requests/__init__.py:86: RequestsDependencyWarning: Unable to find acceptable character detection dependency (chardet or charset_normalizer).\n",
      "  warnings.warn(\n"
     ]
    }
   ],
   "source": [
    "from graph_universe import GraphUniverseDataset"
   ]
  },
  {
   "cell_type": "code",
   "execution_count": null,
   "id": "a9193611",
   "metadata": {},
   "outputs": [],
   "source": []
  },
  {
   "cell_type": "code",
   "execution_count": null,
   "id": "ea554144",
   "metadata": {},
   "outputs": [],
   "source": []
  },
  {
   "cell_type": "code",
   "execution_count": null,
   "id": "aac4d84d",
   "metadata": {},
   "outputs": [],
   "source": []
  },
  {
   "cell_type": "code",
   "execution_count": null,
   "id": "078d7acf",
   "metadata": {},
   "outputs": [],
   "source": []
  },
  {
   "cell_type": "code",
   "execution_count": 2,
   "id": "d279f4f3",
   "metadata": {},
   "outputs": [],
   "source": [
    "import pickle\n",
    "import os\n",
    "\n",
    "# Function to load a pickle file\n",
    "def load_pickle_file(file_path):\n",
    "    \"\"\"\n",
    "    Load a pickle file and return its contents\n",
    "    \n",
    "    Args:\n",
    "        file_path (str): Path to the pickle file\n",
    "    \n",
    "    Returns:\n",
    "        object: The loaded object from the pickle file\n",
    "    \"\"\"\n",
    "    if not os.path.exists(file_path):\n",
    "        raise FileNotFoundError(f\"File not found: {file_path}\")\n",
    "    \n",
    "    try:\n",
    "        with open(file_path, 'rb') as f:\n",
    "            data = pickle.load(f)\n",
    "        print(f\"Successfully loaded pickle file: {file_path}\")\n",
    "        print(f\"Data type: {type(data)}\")\n",
    "        return data\n",
    "    except Exception as e:\n",
    "        print(f\"Error loading pickle file: {e}\")\n",
    "        return None\n",
    "\n",
    "# Example usage:\n",
    "# Replace 'your_file.pkl' with the path to your pickle file\n",
    "# data = load_pickle_file('your_file.pkl')\n",
    "# print(data)\n",
    "\n",
    "\n",
    "# Additional utility functions for pickle files\n",
    "\n",
    "def inspect_pickle_contents(file_path, max_items=10):\n",
    "    \"\"\"\n",
    "    Inspect the contents of a pickle file without fully loading large objects\n",
    "    \n",
    "    Args:\n",
    "        file_path (str): Path to the pickle file\n",
    "        max_items (int): Maximum number of items to display if data is iterable\n",
    "    \"\"\"\n",
    "    data = load_pickle_file(file_path)\n",
    "    if data is None:\n",
    "        return\n",
    "    \n",
    "    print(f\"\\n=== Pickle File Analysis ===\")\n",
    "    print(f\"File: {file_path}\")\n",
    "    print(f\"Type: {type(data)}\")\n",
    "    print(f\"Size in memory: {len(str(data))} characters (string representation)\")\n",
    "    \n",
    "    # Handle different data types\n",
    "    if hasattr(data, '__len__') and not isinstance(data, str):\n",
    "        print(f\"Length: {len(data)}\")\n",
    "    \n",
    "    if isinstance(data, dict):\n",
    "        print(f\"Dictionary keys: {list(data.keys())[:max_items]}\")\n",
    "        if len(data) > max_items:\n",
    "            print(f\"... and {len(data) - max_items} more keys\")\n",
    "    elif isinstance(data, (list, tuple)):\n",
    "        print(f\"First {min(max_items, len(data))} items:\")\n",
    "        for i, item in enumerate(data[:max_items]):\n",
    "            print(f\"  [{i}]: {type(item)} - {str(item)[:100]}\")\n",
    "        if len(data) > max_items:\n",
    "            print(f\"... and {len(data) - max_items} more items\")\n",
    "    else:\n",
    "        # For other types, just show a preview\n",
    "        data_str = str(data)\n",
    "        if len(data_str) > 200:\n",
    "            print(f\"Preview: {data_str[:200]}...\")\n",
    "        else:\n",
    "            print(f\"Content: {data_str}\")\n",
    "\n",
    "def list_pickle_files(directory=\".\"):\n",
    "    \"\"\"\n",
    "    List all pickle files in a directory\n",
    "    \n",
    "    Args:\n",
    "        directory (str): Directory to search for pickle files\n",
    "    \"\"\"\n",
    "    pickle_extensions = ['.pkl', '.pck', '.pickle']\n",
    "    pickle_files = []\n",
    "    \n",
    "    for root, dirs, files in os.walk(directory):\n",
    "        for file in files:\n",
    "            if any(file.endswith(ext) for ext in pickle_extensions):\n",
    "                pickle_files.append(os.path.join(root, file))\n",
    "    \n",
    "    if pickle_files:\n",
    "        print(f\"Found {len(pickle_files)} pickle files:\")\n",
    "        for file in pickle_files:\n",
    "            print(f\"  - {file}\")\n",
    "    else:\n",
    "        print(f\"No pickle files found in {directory}\")\n",
    "    \n",
    "    return pickle_files"
   ]
  },
  {
   "cell_type": "code",
   "execution_count": null,
   "id": "148c5ddb",
   "metadata": {},
   "outputs": [],
   "source": []
  },
  {
   "cell_type": "code",
   "execution_count": 3,
   "id": "d227c414",
   "metadata": {},
   "outputs": [
    {
     "name": "stdout",
     "output_type": "stream",
     "text": [
      "Searching for pickle files...\n",
      "Found 12 pickle files:\n",
      "  - /home/gbg141/TopoBench/tutorials/first_graphuniverse_datasets_K_parameter/family_k10_graph_size_50_to_100/10_communities_per_graph/pyg_graph_list_community_detection.pkl\n",
      "  - /home/gbg141/TopoBench/tutorials/first_graphuniverse_datasets_K_parameter/family_k10_graph_size_50_to_100/10_communities_per_graph/graph_universe.pkl\n",
      "  - /home/gbg141/TopoBench/tutorials/first_graphuniverse_datasets_K_parameter/family_k10_graph_size_50_to_100/5_to_10_communities_per_graph/pyg_graph_list_community_detection.pkl\n",
      "  - /home/gbg141/TopoBench/tutorials/first_graphuniverse_datasets_K_parameter/family_k10_graph_size_50_to_100/5_to_10_communities_per_graph/graph_universe.pkl\n",
      "  - /home/gbg141/TopoBench/tutorials/first_graphuniverse_datasets_K_parameter/family_k10_graph_size_50_to_100/2_to_5_communities_per_graph/pyg_graph_list_community_detection.pkl\n",
      "  - /home/gbg141/TopoBench/tutorials/first_graphuniverse_datasets_K_parameter/family_k10_graph_size_50_to_100/2_to_5_communities_per_graph/graph_universe.pkl\n",
      "  - /home/gbg141/TopoBench/tutorials/first_graphuniverse_datasets_K_parameter/family_k10/10_communities_per_graph/pyg_graph_list_community_detection.pkl\n",
      "  - /home/gbg141/TopoBench/tutorials/first_graphuniverse_datasets_K_parameter/family_k10/10_communities_per_graph/graph_universe.pkl\n",
      "  - /home/gbg141/TopoBench/tutorials/first_graphuniverse_datasets_K_parameter/family_k10/5_to_10_communities_per_graph/pyg_graph_list_community_detection.pkl\n",
      "  - /home/gbg141/TopoBench/tutorials/first_graphuniverse_datasets_K_parameter/family_k10/5_to_10_communities_per_graph/graph_universe.pkl\n",
      "  - /home/gbg141/TopoBench/tutorials/first_graphuniverse_datasets_K_parameter/family_k10/2_to_5_communities_per_graph/pyg_graph_list_community_detection.pkl\n",
      "  - /home/gbg141/TopoBench/tutorials/first_graphuniverse_datasets_K_parameter/family_k10/2_to_5_communities_per_graph/graph_universe.pkl\n"
     ]
    }
   ],
   "source": [
    "# Example: Find and load pickle files in the current workspace\n",
    "\n",
    "# First, let's see what pickle files are available in the current directory and subdirectories\n",
    "print(\"Searching for pickle files...\")\n",
    "pickle_files = list_pickle_files(\"/home/gbg141/TopoBench\")\n",
    "\n",
    "# If you have a specific pickle file path, replace it here:\n",
    "# your_pickle_file = \"path/to/your/file.pkl\"\n",
    "# \n",
    "# # Load and inspect the file\n",
    "# if os.path.exists(your_pickle_file):\n",
    "#     # Option 1: Just load the file\n",
    "#     data = load_pickle_file(your_pickle_file)\n",
    "#     \n",
    "#     # Option 2: Load and inspect the contents\n",
    "#     inspect_pickle_contents(your_pickle_file)\n",
    "# else:\n",
    "#     print(f\"Pickle file not found. Available files: {pickle_files}\")"
   ]
  },
  {
   "cell_type": "code",
   "execution_count": 4,
   "id": "cccee272",
   "metadata": {},
   "outputs": [
    {
     "name": "stdout",
     "output_type": "stream",
     "text": [
      "Error loading pickle file: No module named 'graph_universe'\n",
      "None\n"
     ]
    }
   ],
   "source": [
    "# Example usage:\n",
    "# Replace 'your_file.pkl' with the path to your pickle file\n",
    "data = load_pickle_file('/home/gbg141/TopoBench/tutorials/first_graphuniverse_datasets_K_parameter/family_k10/2_to_5_communities_per_graph/graph_universe.pkl')\n",
    "print(data)"
   ]
  },
  {
   "cell_type": "code",
   "execution_count": null,
   "id": "a78601d8",
   "metadata": {},
   "outputs": [],
   "source": []
  }
 ],
 "metadata": {
  "kernelspec": {
   "display_name": "tb",
   "language": "python",
   "name": "python3"
  },
  "language_info": {
   "codemirror_mode": {
    "name": "ipython",
    "version": 3
   },
   "file_extension": ".py",
   "mimetype": "text/x-python",
   "name": "python",
   "nbconvert_exporter": "python",
   "pygments_lexer": "ipython3",
   "version": "3.11.3"
  }
 },
 "nbformat": 4,
 "nbformat_minor": 5
}
