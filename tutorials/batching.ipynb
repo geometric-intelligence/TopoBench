{
 "cells": [
  {
   "cell_type": "code",
   "execution_count": 1,
   "metadata": {},
   "outputs": [
    {
     "name": "stderr",
     "output_type": "stream",
     "text": [
      "/tmp/ipykernel_3192954/2455096930.py:26: UserWarning: \n",
      "The version_base parameter is not specified.\n",
      "Please specify a compatability version level, or None.\n",
      "Will assume defaults for version 1.1\n",
      "  initialize(config_path=\"../configs\", job_name=\"job\")\n"
     ]
    },
    {
     "data": {
      "text/plain": [
       "hydra.initialize()"
      ]
     },
     "execution_count": 1,
     "metadata": {},
     "output_type": "execute_result"
    }
   ],
   "source": [
    "import rootutils\n",
    "\n",
    "rootutils.setup_root(\"./\", indicator=\".project-root\", pythonpath=True)\n",
    "\n",
    "%load_ext autoreload\n",
    "%autoreload 2\n",
    "\n",
    "import hydra\n",
    "import torch\n",
    "import torch_geometric\n",
    "from hydra import compose, initialize\n",
    "from omegaconf import OmegaConf\n",
    "\n",
    "from topobenchmarkx.data.preprocessor import PreProcessor\n",
    "from topobenchmarkx.dataloader.dataloader import TBXDataloader\n",
    "from topobenchmarkx.data.loaders import GraphLoader\n",
    "\n",
    "from topobenchmarkx.utils.config_resolvers import (\n",
    "    get_default_transform,\n",
    "    get_monitor_metric,\n",
    "    get_monitor_mode,\n",
    "    infer_in_channels,\n",
    ")\n",
    "\n",
    "\n",
    "initialize(config_path=\"../configs\", job_name=\"job\")"
   ]
  },
  {
   "cell_type": "code",
   "execution_count": 17,
   "metadata": {},
   "outputs": [
    {
     "name": "stderr",
     "output_type": "stream",
     "text": [
      "Processing...\n",
      "/home/lev/miniconda3/envs/tbx/lib/python3.11/site-packages/scipy/sparse/_index.py:143: SparseEfficiencyWarning: Changing the sparsity structure of a csr_matrix is expensive. lil_matrix is more efficient.\n",
      "  self._set_arrayXarray(i, j, x)\n",
      "Done!\n"
     ]
    }
   ],
   "source": [
    "cfg = compose(config_name=\"run.yaml\", \n",
    "              overrides=[\"dataset=graph/cocitation_cora\", \"model=simplicial/scn\"], \n",
    "              return_hydra_config=True)\n",
    "graph_loader = GraphLoader(cfg.dataset.loader.parameters)\n",
    "dataset, dataset_dir = graph_loader.load()\n",
    "preprocessed_dataset = PreProcessor(dataset, dataset_dir, cfg['transforms'])"
   ]
  },
  {
   "cell_type": "code",
   "execution_count": 18,
   "metadata": {},
   "outputs": [],
   "source": [
    "data = preprocessed_dataset[0]"
   ]
  },
  {
   "cell_type": "code",
   "execution_count": 20,
   "metadata": {},
   "outputs": [
    {
     "data": {
      "text/plain": [
       "['y',\n",
       " 'up_laplacian_3',\n",
       " 'adjacency_1',\n",
       " 'x',\n",
       " 'up_laplacian_2',\n",
       " 'down_laplacian_0',\n",
       " 'hodge_laplacian_1',\n",
       " 'x_3',\n",
       " 'incidence_0',\n",
       " 'up_laplacian_1',\n",
       " 'x_2',\n",
       " 'hodge_laplacian_0',\n",
       " 'val_mask',\n",
       " 'shape',\n",
       " 'train_mask',\n",
       " 'test_mask',\n",
       " 'hodge_laplacian_2',\n",
       " 'incidence_1',\n",
       " 'down_laplacian_1',\n",
       " 'incidence_3',\n",
       " 'incidence_2',\n",
       " 'edge_index',\n",
       " 'hodge_laplacian_3',\n",
       " 'x_1',\n",
       " 'adjacency_0',\n",
       " 'down_laplacian_2',\n",
       " 'adjacency_2',\n",
       " 'down_laplacian_3',\n",
       " 'x_0',\n",
       " 'up_laplacian_0',\n",
       " 'adjacency_3']"
      ]
     },
     "execution_count": 20,
     "metadata": {},
     "output_type": "execute_result"
    }
   ],
   "source": [
    "data.keys()"
   ]
  },
  {
   "cell_type": "code",
   "execution_count": null,
   "metadata": {},
   "outputs": [],
   "source": []
  }
 ],
 "metadata": {
  "kernelspec": {
   "display_name": "tbx",
   "language": "python",
   "name": "python3"
  },
  "language_info": {
   "codemirror_mode": {
    "name": "ipython",
    "version": 3
   },
   "file_extension": ".py",
   "mimetype": "text/x-python",
   "name": "python",
   "nbconvert_exporter": "python",
   "pygments_lexer": "ipython3",
   "version": "3.11.3"
  }
 },
 "nbformat": 4,
 "nbformat_minor": 2
}
