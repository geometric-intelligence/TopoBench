{
 "cells": [
  {
   "cell_type": "markdown",
   "metadata": {},
   "source": [
    "## Imports ##"
   ]
  },
  {
   "cell_type": "code",
   "execution_count": 2,
   "metadata": {},
   "outputs": [],
   "source": [
    "import re\n",
    "from pathlib import Path\n",
    "from itertools import product\n",
    "from topobench.nn.backbones.graph.gat_v4 import GATv4\n",
    "from topobench.nn.readouts.ftd_readout import FTDReadOut\n",
    "from torch_geometric.nn import GAT, GCN, global_mean_pool\n",
    "import yaml\n"
   ]
  },
  {
   "cell_type": "markdown",
   "metadata": {},
   "source": [
    "# Getting Number of runs per experiment #"
   ]
  },
  {
   "cell_type": "code",
   "execution_count": 3,
   "metadata": {},
   "outputs": [],
   "source": [
    "\n",
    "def count_runs_in_block(lines):\n",
    "    params = {}\n",
    "    for line in lines:\n",
    "        if \"=\" not in line or line.strip().startswith(\"python\") or \"--multirun\" in line or line.strip().endswith(\"&\"):\n",
    "            continue\n",
    "        key, val = line.split(\"=\", 1)\n",
    "        key = key.strip()\n",
    "        val = val.strip().strip(\"\\\\\")\n",
    "        \n",
    "        # Special case: multiple escaped bracketed items (e.g. \\[...\\],\\[...\\],...)\n",
    "        if \"\\\\[\" in val and \"\\\\]\" in val:\n",
    "            # Find all escaped bracketed expressions\n",
    "            matches = re.findall(r'(\\[.*?\\\\\\])', val)\n",
    "            cleaned = [m.replace(\"\\\\\", \"\") for m in matches]\n",
    "            params[key] = cleaned\n",
    "        elif \",\" in val:\n",
    "            params[key] = val.split(\",\")\n",
    "        else:\n",
    "            params[key] = [val]\n",
    "    # Cartesian product of all parameter options\n",
    "    total = 1\n",
    "    for v in params.values():\n",
    "        total *= len(v)\n",
    "    return total\n",
    "\n",
    "\n",
    "def parse_hydra_sh(filepath):\n",
    "    with open(filepath, \"r\") as f:\n",
    "        lines = [line.strip() for line in f.readlines()]\n",
    "    \n",
    "    blocks = []\n",
    "    current = []\n",
    "    for line in lines:\n",
    "        if line.startswith(\"python -m\"):\n",
    "            if current:\n",
    "                blocks.append(current)\n",
    "                current = []\n",
    "        current.append(line)\n",
    "    if current:\n",
    "        blocks.append(current)\n",
    "\n",
    "    results = []\n",
    "    for i, block in enumerate(blocks):\n",
    "        run_count = count_runs_in_block(block)\n",
    "        results.append((i + 1, run_count))\n",
    "    \n",
    "    for block_num, count in results:\n",
    "        print(f\"Block {block_num}: {count} runs\")\n",
    "    print(f\"Total: {sum(count for _, count in results)} runs\")\n",
    "    return results"
   ]
  },
  {
   "cell_type": "code",
   "execution_count": 6,
   "metadata": {},
   "outputs": [
    {
     "name": "stdout",
     "output_type": "stream",
     "text": [
      "Block 1: 46080 runs\n",
      "Total: 46080 runs\n"
     ]
    }
   ],
   "source": [
    "results = parse_hydra_sh(\"/home/gbg141/TopoProteo/topoproteo_experiments.sh\") "
   ]
  },
  {
   "cell_type": "markdown",
   "metadata": {},
   "source": [
    "# Getting Number of Parameters Per Model #"
   ]
  },
  {
   "cell_type": "code",
   "execution_count": null,
   "metadata": {},
   "outputs": [],
   "source": [
    "fc_dim_choices = [[128, 256, 256, 64], [64, 128, 128, 32]]\n",
    "fc_dropout_choices = [0.1]\n",
    "fc_act_choices = ['tanh', 'elu']\n",
    "\n",
    "gat_v4_hidden_channels= [[8, 16], [64, 128]]\n",
    "gat_v4_heads= [[2, 2], [4, 4]]\n",
    "\n",
    "gat_num_layers= [2, 4, 6]  # only for GAT and GCN\n",
    "gat_hidden_channels= [8, 32, 64, 128]\n",
    "gat_heads= [2, 4]\n",
    "\n",
    "gcn_num_layers= [2, 4, 6]  # only for GAT and GCN\n",
    "gcn_hidden_channels= [8, 32, 128]\n",
    "[512, 128, 64, 32]\n",
    "mlp_channel_lists= [[128, 256, 256, 64], [64, 128, 128, 32],[416, 256, 128, 32]] #[512, 256, 128, 32]]\n",
    "dropout_choices= [0.1]\n",
    "\n",
    "# Dataset Parameters \n",
    "FTD_config = \"/home/lcornelis/code/TopoProteo/configs/dataset/graph/FTD.yaml\"\n",
    "gatv4config = \"/home/lcornelis/code/TopoProteo/configs/model/graph/gatv4.yaml\"\n",
    "gatconfig = \"/home/lcornelis/code/TopoProteo/configs/model/graph/gat.yaml\"\n",
    "gcnconfig = \"/home/lcornelis/code/TopoProteo/configs/model/graph/gcn.yaml\"\n",
    "mlpconfig = \"/home/lcornelis/code/TopoProteo/configs/model/graph/mlp.yaml\" #fix this \n",
    "\n",
    "with open(FTD_config, \"r\") as f:\n",
    "    config = yaml.safe_load(f)\n",
    "# Navigate to the nested value\n",
    "num_nodes = config[\"loader\"][\"parameters\"][\"num_nodes\"]\n",
    "\n",
    "#shared readout parameters\n",
    "\n",
    "with open(gatv4config, \"r\") as f:\n",
    "    config_gatv4 = yaml.safe_load(f)\n",
    "\n",
    "readout = config_gatv4[\"readout\"]\n",
    "readout_which_layer = readout[\"which_layer\"]\n",
    "fc_dim_choices = [readout[\"fc_dim\"]]  # wrap in list to iterate if not already\n",
    "fc_dropout_choices = [readout[\"fc_dropout\"]]\n",
    "fc_act_choices = [readout[\"fc_act\"]]\n",
    "fc_input_dim = readout[\"fc_input_dim\"]\n",
    "feature_encoder_dim = readout[\"feature_encoder_dim\"]\n",
    "graph_encoder_dim = readout[\"graph_encoder_dim\"]\n",
    "\n",
    "\n"
   ]
  },
  {
   "cell_type": "markdown",
   "metadata": {},
   "source": [
    "## GAT-v4 ##"
   ]
  },
  {
   "cell_type": "code",
   "execution_count": 12,
   "metadata": {},
   "outputs": [
    {
     "ename": "NameError",
     "evalue": "name 'task_level' is not defined",
     "output_type": "error",
     "traceback": [
      "\u001b[0;31m---------------------------------------------------------------------------\u001b[0m",
      "\u001b[0;31mNameError\u001b[0m                                 Traceback (most recent call last)",
      "Cell \u001b[0;32mIn[12], line 43\u001b[0m\n\u001b[1;32m     29\u001b[0m \u001b[38;5;28;01mfor\u001b[39;00m fc_dropout \u001b[38;5;129;01min\u001b[39;00m fc_dropout_choices:\n\u001b[1;32m     30\u001b[0m     \u001b[38;5;28;01mfor\u001b[39;00m fc_act \u001b[38;5;129;01min\u001b[39;00m fc_act_choices:\n\u001b[1;32m     31\u001b[0m         readout_model \u001b[38;5;241m=\u001b[39m FTDReadOut(\n\u001b[1;32m     32\u001b[0m             num_nodes\u001b[38;5;241m=\u001b[39mnum_nodes,\n\u001b[1;32m     33\u001b[0m             which_layer\u001b[38;5;241m=\u001b[39mreadout_which_layer,\n\u001b[1;32m     34\u001b[0m             fc_dim\u001b[38;5;241m=\u001b[39mfc_dim,\n\u001b[1;32m     35\u001b[0m             fc_dropout\u001b[38;5;241m=\u001b[39mfc_dropout,\n\u001b[1;32m     36\u001b[0m             fc_act\u001b[38;5;241m=\u001b[39mfc_act,\n\u001b[1;32m     37\u001b[0m             out_channels\u001b[38;5;241m=\u001b[39m\u001b[38;5;241m1\u001b[39m,\n\u001b[1;32m     38\u001b[0m             fc_input_dim\u001b[38;5;241m=\u001b[39mfc_input_dim,\n\u001b[1;32m     39\u001b[0m             use_feature_encoder\u001b[38;5;241m=\u001b[39m\u001b[38;5;28;01mTrue\u001b[39;00m,\n\u001b[1;32m     40\u001b[0m             feature_encoder_dim\u001b[38;5;241m=\u001b[39mfeature_encoder_dim,\n\u001b[1;32m     41\u001b[0m             graph_encoder_dim\u001b[38;5;241m=\u001b[39mgraph_encoder_dim,\n\u001b[1;32m     42\u001b[0m             hidden_dim\u001b[38;5;241m=\u001b[39m\u001b[38;5;241m10\u001b[39m,\n\u001b[0;32m---> 43\u001b[0m             task_level\u001b[38;5;241m=\u001b[39m\u001b[43mtask_level\u001b[49m,\n\u001b[1;32m     44\u001b[0m         )\n\u001b[1;32m     45\u001b[0m         total_params_combined \u001b[38;5;241m=\u001b[39m \u001b[38;5;28msum\u001b[39m(p\u001b[38;5;241m.\u001b[39mnumel() \u001b[38;5;28;01mfor\u001b[39;00m p \u001b[38;5;129;01min\u001b[39;00m gat_v4_model\u001b[38;5;241m.\u001b[39mparameters()) \u001b[38;5;241m+\u001b[39m \u001b[38;5;28msum\u001b[39m(p\u001b[38;5;241m.\u001b[39mnumel() \u001b[38;5;28;01mfor\u001b[39;00m p \u001b[38;5;129;01min\u001b[39;00m readout_model\u001b[38;5;241m.\u001b[39mparameters())\n\u001b[1;32m     46\u001b[0m         total_params_list_combined\u001b[38;5;241m.\u001b[39mappend(total_params_combined)\n",
      "\u001b[0;31mNameError\u001b[0m: name 'task_level' is not defined"
     ]
    }
   ],
   "source": [
    "# Get values from config\n",
    "backbone = config_gatv4[\"backbone\"]\n",
    "# Extract values backbone\n",
    "which_layer = backbone[\"which_layer\"]\n",
    "dropout = backbone[\"dropout\"]\n",
    "act = backbone[\"act\"]\n",
    "use_layer_norm = backbone[\"use_layer_norm\"]\n",
    "weight_initializer = backbone[\"weight_initializer\"]\n",
    "\n",
    "# Compute fc_input_dim\n",
    "fc_input_dim = num_nodes * len(which_layer)\n",
    "\n",
    "total_params_list_combined = []\n",
    "for hidden_channels in gat_v4_hidden_channels:\n",
    "    for heads in gat_v4_heads:\n",
    "        gat_v4_model = GATv4(\n",
    "            in_channels=1, \n",
    "            hidden_channels=hidden_channels,\n",
    "            out_channels=1,\n",
    "            heads=heads, \n",
    "            dropout=dropout,\n",
    "            act=act,\n",
    "            which_layer=which_layer,\n",
    "            use_layer_norm=use_layer_norm,\n",
    "            num_nodes=num_nodes,\n",
    "            weight_initializer=weight_initializer,\n",
    "        )\n",
    "        for fc_dim in fc_dim_choices:\n",
    "            for fc_dropout in fc_dropout_choices:\n",
    "                for fc_act in fc_act_choices:\n",
    "                    readout_model = FTDReadOut(\n",
    "                        num_nodes=num_nodes,\n",
    "                        which_layer=readout_which_layer,\n",
    "                        fc_dim=fc_dim,\n",
    "                        fc_dropout=fc_dropout,\n",
    "                        fc_act=fc_act,\n",
    "                        out_channels=1,\n",
    "                        fc_input_dim=fc_input_dim,\n",
    "                        use_feature_encoder=True,\n",
    "                        feature_encoder_dim=feature_encoder_dim,\n",
    "                        graph_encoder_dim=graph_encoder_dim,\n",
    "                        hidden_dim=10, #SOS\n",
    "                        task_level=task_level, #SOS\n",
    "                    )\n",
    "                    total_params_combined = sum(p.numel() for p in gat_v4_model.parameters()) + sum(p.numel() for p in readout_model.parameters())\n",
    "                    total_params_list_combined.append(total_params_combined)\n",
    "\n",
    "print(\"Max number of parameters: \", max(total_params_list_combined))\n",
    "print(\"Min number of parameters: \", min(total_params_list_combined))"
   ]
  },
  {
   "cell_type": "markdown",
   "metadata": {},
   "source": [
    "## GAT ##"
   ]
  },
  {
   "cell_type": "code",
   "execution_count": null,
   "metadata": {},
   "outputs": [],
   "source": [
    "with open(gatconfig, \"r\") as f:\n",
    "    config_gat = yaml.safe_load(f)\n",
    "backbone = config[\"backbone\"]\n",
    "dropout = backbone[\"dropout\"]\n",
    "act = backbone[\"act\"]\n",
    "num_layers = backbone[\"num_layers\"]\n",
    "hidden_channels = backbone[\"hidden_channels\"]\n",
    "heads = backbone[\"heads\"]\n",
    "\n",
    "# Assumes num_nodes is defined elsewhere\n",
    "fc_input_dim = (num_nodes * 2) - 1\n",
    "\n",
    "fc_input_dim = (num_nodes * 2) - 1\n",
    "total_params_list_combined = []\n",
    "for num_layers in gat_num_layers:\n",
    "    for hidden_channels in gat_hidden_channels:\n",
    "        for heads in gat_heads:\n",
    "            gat_model = GAT(\n",
    "                in_channels=1,\n",
    "                num_layers=num_layers,\n",
    "                hidden_channels=hidden_channels,\n",
    "                out_channels=1,\n",
    "                heads=heads,\n",
    "                dropout=dropout,\n",
    "                act=act,\n",
    "            )\n",
    "            for fc_dim in fc_dim_choices:\n",
    "                for fc_dropout in fc_dropout_choices:\n",
    "                    for fc_act in fc_act_choices:\n",
    "                        readout_model = FTDReadOut(\n",
    "                        num_nodes=num_nodes,\n",
    "                        which_layer=readout_which_layer,\n",
    "                        fc_dim=fc_dim,\n",
    "                        fc_dropout=fc_dropout,\n",
    "                        fc_act=fc_act,\n",
    "                        out_channels=1,\n",
    "                        fc_input_dim=fc_input_dim,\n",
    "                        use_feature_encoder=True,\n",
    "                        feature_encoder_dim=feature_encoder_dim,\n",
    "                        graph_encoder_dim=graph_encoder_dim,\n",
    "                        hidden_dim=10, #SOS\n",
    "                        task_level=task_level, #SOS\n",
    "                    )\n",
    "                        total_params_combined = sum(p.numel() for p in gat_model.parameters()) + sum(p.numel() for p in readout_model.parameters())\n",
    "                        total_params_list_combined.append(total_params_combined)\n",
    "\n",
    "print(\"Max number of parameters: \", max(total_params_list_combined))\n",
    "print(\"Min number of parameters: \", min(total_params_list_combined))"
   ]
  },
  {
   "cell_type": "markdown",
   "metadata": {},
   "source": [
    "## GCN ##"
   ]
  },
  {
   "cell_type": "code",
   "execution_count": null,
   "metadata": {},
   "outputs": [],
   "source": [
    "with open(gcnconfig, \"r\") as f:\n",
    "    config_gcn = yaml.safe_load(f)\n",
    "backbone = config[\"backbone\"]\n",
    "dropout = backbone[\"dropout\"]\n",
    "act = backbone[\"act\"]\n",
    "num_layers = backbone[\"num_layers\"]\n",
    "hidden_channels = backbone[\"hidden_channels\"]\n",
    "\n",
    "fc_input_dim = (num_nodes * 2) - 1\n",
    "total_params_list_combined = []\n",
    "for num_layers in gcn_num_layers:\n",
    "    for hidden_channels in gcn_hidden_channels:\n",
    "        gcn_model = GCN(\n",
    "            in_channels=1,\n",
    "            num_layers=num_layers,\n",
    "            hidden_channels=hidden_channels,\n",
    "            out_channels=1,\n",
    "            dropout=dropout,\n",
    "            act=act,\n",
    "        )\n",
    "        for fc_dim in fc_dim_choices:\n",
    "            for fc_dropout in fc_dropout_choices:\n",
    "                for fc_act in fc_act_choices:\n",
    "                    readout_model = FTDReadOut(\n",
    "                        num_nodes=num_nodes,\n",
    "                        which_layer=readout_which_layer,\n",
    "                        fc_dim=fc_dim,\n",
    "                        fc_dropout=fc_dropout,\n",
    "                        fc_act=fc_act,\n",
    "                        out_channels=1,\n",
    "                        fc_input_dim=fc_input_dim,\n",
    "                        use_feature_encoder=True,\n",
    "                        feature_encoder_dim=feature_encoder_dim,\n",
    "                        graph_encoder_dim=graph_encoder_dim,\n",
    "                        hidden_dim=10, #SOS\n",
    "                        task_level=task_level, #SOS\n",
    "                    )\n",
    "                    total_params_combined = sum(p.numel() for p in gcn_model.parameters()) + sum(p.numel() for p in readout_model.parameters())\n",
    "                    total_params_list_combined.append(total_params_combined)\n",
    "\n",
    "print(\"Max number of parameters: \", max(total_params_list_combined))\n",
    "print(\"Min number of parameters: \", min(total_params_list_combined))"
   ]
  },
  {
   "cell_type": "markdown",
   "metadata": {},
   "source": [
    "## MLP ##"
   ]
  },
  {
   "cell_type": "code",
   "execution_count": null,
   "metadata": {},
   "outputs": [],
   "source": [
    "dropout = config.dropout\n",
    "fc_input_dim = (num_nodes * 2) -1\n",
    "total_params_list_combined = []\n",
    "for fc_dim in mlp_channel_lists:\n",
    "    for fc_dropout in dropout_choices:\n",
    "        for fc_act in fc_act_choices:\n",
    "            readout_model = FTDReadOut(\n",
    "                        num_nodes=num_nodes,\n",
    "                        which_layer=readout_which_layer,\n",
    "                        fc_dim=fc_dim,\n",
    "                        fc_dropout=fc_dropout,\n",
    "                        fc_act=fc_act,\n",
    "                        out_channels=1,\n",
    "                        fc_input_dim=fc_input_dim,\n",
    "                        use_feature_encoder=True,\n",
    "                        feature_encoder_dim=feature_encoder_dim,\n",
    "                        graph_encoder_dim=graph_encoder_dim,\n",
    "                        hidden_dim=10, #SOS\n",
    "                        task_level=task_level, #SOS\n",
    "                    )\n",
    "            total_params_combined = sum(p.numel() for p in readout_model.parameters())\n",
    "            total_params_list_combined.append(total_params_combined)\n",
    "    \n",
    "\n",
    "print(\"Max number of parameters: \", max(total_params_list_combined))\n",
    "print(\"Min number of parameters: \", min(total_params_list_combined))"
   ]
  }
 ],
 "metadata": {
  "kernelspec": {
   "display_name": "proteo",
   "language": "python",
   "name": "python3"
  },
  "language_info": {
   "codemirror_mode": {
    "name": "ipython",
    "version": 3
   },
   "file_extension": ".py",
   "mimetype": "text/x-python",
   "name": "python",
   "nbconvert_exporter": "python",
   "pygments_lexer": "ipython3",
   "version": "3.11.10"
  }
 },
 "nbformat": 4,
 "nbformat_minor": 2
}
